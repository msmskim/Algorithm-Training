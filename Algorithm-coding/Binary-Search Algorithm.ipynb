{
 "cells": [
  {
   "cell_type": "code",
   "execution_count": 4,
   "metadata": {},
   "outputs": [],
   "source": [
    "# 이진 탐색 알고리즘\n",
    "def binary_search(list, item):\n",
    "    # 어떤 부분 탐색할 지 결정\n",
    "    low = 0\n",
    "    high = len(list) - 1\n",
    "    \n",
    "    # 실행 영역\n",
    "    while low <= high:\n",
    "        \n",
    "        # 가운데 숫자 확인\n",
    "        mid = int((low + high) / 2)\n",
    "        guess = list[mid]\n",
    "        \n",
    "        # 아이템 찾으면\n",
    "        if guess == item:\n",
    "            return mid\n",
    "        # 추측한 숫자가 크면\n",
    "        if guess > item:\n",
    "            high = mid - 1\n",
    "        # 추측한 숫자가 작으면\n",
    "        else:\n",
    "            low = mid + 1\n",
    "    # 아이템이 리스트에 없으면\n",
    "    return None    "
   ]
  },
  {
   "cell_type": "code",
   "execution_count": 5,
   "metadata": {},
   "outputs": [
    {
     "name": "stdout",
     "output_type": "stream",
     "text": [
      "1\n",
      "None\n"
     ]
    }
   ],
   "source": [
    "# 리스트 정의\n",
    "my_list = [1, 3, 5, 7, 9]\n",
    "\n",
    "# 결과 확인\n",
    "print(binary_search(my_list, 3))\n",
    "print(binary_search(my_list, -1))"
   ]
  },
  {
   "cell_type": "markdown",
   "metadata": {},
   "source": [
    "## 출처\n",
    "## Hello Coding 그림으로 개념을 이해하는 알고리즘, MANNING, 한빛미디어, 아디트야 바르가바, 김도형"
   ]
  },
  {
   "cell_type": "code",
   "execution_count": null,
   "metadata": {},
   "outputs": [],
   "source": []
  }
 ],
 "metadata": {
  "kernelspec": {
   "display_name": "Python 3",
   "language": "python",
   "name": "python3"
  },
  "language_info": {
   "codemirror_mode": {
    "name": "ipython",
    "version": 3
   },
   "file_extension": ".py",
   "mimetype": "text/x-python",
   "name": "python",
   "nbconvert_exporter": "python",
   "pygments_lexer": "ipython3",
   "version": "3.6.4"
  }
 },
 "nbformat": 4,
 "nbformat_minor": 2
}
