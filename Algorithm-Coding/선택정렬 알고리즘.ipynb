{
 "cells": [
  {
   "cell_type": "code",
   "execution_count": 1,
   "metadata": {},
   "outputs": [],
   "source": [
    "# 선택 정렬\n",
    "\n",
    "# 최소값 인덱스 찾기\n",
    "def findsmallest(arr):\n",
    "    smallest = arr[0] # 최소값을 처음 값으로 정의\n",
    "    smallest_index = 0 # 처음 값의 인덱스\n",
    "    \n",
    "    # 최소값 비교\n",
    "    for i in range(1, len(arr)):\n",
    "        if arr[i] < smallest:\n",
    "            smallest = arr[i]\n",
    "            smallest_index = i\n",
    "    \n",
    "    # 최소값에 해당하는 인덱스 반환\n",
    "    return smallest_index"
   ]
  },
  {
   "cell_type": "code",
   "execution_count": 2,
   "metadata": {},
   "outputs": [],
   "source": [
    "# 최소값부터 순서대로 정렬\n",
    "def printSort(arr):\n",
    "    sorted_list = []\n",
    "   \n",
    "    # 정렬\n",
    "    for i in range(0, len(arr)):\n",
    "        factor = arr[findsmallest(arr)]\n",
    "        # 최소값 리스트에 넣기\n",
    "        sorted_list.append(factor)\n",
    "        # 다음 최소값 찾기 위해 삭제\n",
    "        arr.remove(factor)\n",
    "        \n",
    "    # 정렬된 리스트 반환    \n",
    "    return sorted_list"
   ]
  },
  {
   "cell_type": "code",
   "execution_count": 17,
   "metadata": {},
   "outputs": [
    {
     "name": "stdout",
     "output_type": "stream",
     "text": [
      "[1, 2, 3, 4, 5]\n"
     ]
    }
   ],
   "source": [
    "# 결과 실험\n",
    "print(printSort([5, 4, 3, 2, 1]))"
   ]
  },
  {
   "cell_type": "markdown",
   "metadata": {},
   "source": [
    "## 출처\n",
    "## Hello Coding 그림으로 개념을 이해하는 알고리즘, 아디트야 바르가바, 김도형, 한빛미디어"
   ]
  }
 ],
 "metadata": {
  "kernelspec": {
   "display_name": "Python 3",
   "language": "python",
   "name": "python3"
  },
  "language_info": {
   "codemirror_mode": {
    "name": "ipython",
    "version": 3
   },
   "file_extension": ".py",
   "mimetype": "text/x-python",
   "name": "python",
   "nbconvert_exporter": "python",
   "pygments_lexer": "ipython3",
   "version": "3.6.4"
  }
 },
 "nbformat": 4,
 "nbformat_minor": 2
}
